{
 "cells": [
  {
   "cell_type": "markdown",
   "id": "d02d66f0",
   "metadata": {},
   "source": [
    "# Edit Your Expectation Suite\n",
    "Use this notebook to recreate and modify your expectation suite:\n",
    "\n",
    "**Expectation Suite Name**: `people.validation`"
   ]
  },
  {
   "cell_type": "code",
   "execution_count": 1,
   "id": "3025dd6f",
   "metadata": {},
   "outputs": [
    {
     "name": "stdout",
     "output_type": "stream",
     "text": [
      "2024-04-20T10:24:04+0200 - INFO - Great Expectations logging enabled at 20 level by JupyterUX module.\n",
      "2024-04-20T10:24:04+0200 - INFO - FileDataContext loading fluent config\n",
      "2024-04-20T10:24:04+0200 - INFO - Loading 'datasources' ->\n",
      "[{'assets': [...], 'name': 'my_datasource3', 'type': 'pandas'},\n",
      " {'assets': [...], 'name': 'my_datasource4', 'type': 'pandas'},\n",
      " {'assets': [...], 'name': 'my_datasource5', 'type': 'pandas'}]\n",
      "2024-04-20T10:24:04+0200 - INFO - _PandasDataAsset.dict() - missing `config_provider`, skipping config substitution\n",
      "2024-04-20T10:24:04+0200 - INFO - _PandasDataAsset.dict() - missing `config_provider`, skipping config substitution\n",
      "2024-04-20T10:24:04+0200 - INFO - _PandasDataAsset.dict() - missing `config_provider`, skipping config substitution\n",
      "2024-04-20T10:24:05+0200 - INFO - Loaded 'my_datasource3' from fluent config\n",
      "2024-04-20T10:24:05+0200 - INFO - Saving 3 Fluent Datasources to /home/mohamed/peoplepipeline/gx/great_expectations.yml\n",
      "2024-04-20T10:24:05+0200 - INFO - CSVAsset.dict() - missing `config_provider`, skipping config substitution\n",
      "2024-04-20T10:24:05+0200 - INFO - PandasDatasource.dict() - missing `config_provider`, skipping config substitution\n",
      "2024-04-20T10:24:05+0200 - INFO - CSVAsset.dict() - missing `config_provider`, skipping config substitution\n",
      "2024-04-20T10:24:05+0200 - INFO - PandasDatasource.dict() - missing `config_provider`, skipping config substitution\n",
      "2024-04-20T10:24:05+0200 - INFO - CSVAsset.dict() - missing `config_provider`, skipping config substitution\n",
      "2024-04-20T10:24:05+0200 - INFO - PandasDatasource.dict() - missing `config_provider`, skipping config substitution\n",
      "2024-04-20T10:24:05+0200 - INFO - Loaded 'my_datasource4' from fluent config\n",
      "2024-04-20T10:24:05+0200 - INFO - Saving 3 Fluent Datasources to /home/mohamed/peoplepipeline/gx/great_expectations.yml\n",
      "2024-04-20T10:24:05+0200 - INFO - CSVAsset.dict() - missing `config_provider`, skipping config substitution\n",
      "2024-04-20T10:24:05+0200 - INFO - PandasDatasource.dict() - missing `config_provider`, skipping config substitution\n",
      "2024-04-20T10:24:05+0200 - INFO - CSVAsset.dict() - missing `config_provider`, skipping config substitution\n",
      "2024-04-20T10:24:05+0200 - INFO - PandasDatasource.dict() - missing `config_provider`, skipping config substitution\n",
      "2024-04-20T10:24:05+0200 - INFO - CSVAsset.dict() - missing `config_provider`, skipping config substitution\n",
      "2024-04-20T10:24:05+0200 - INFO - PandasDatasource.dict() - missing `config_provider`, skipping config substitution\n",
      "2024-04-20T10:24:05+0200 - INFO - Loaded 'my_datasource5' from fluent config\n",
      "2024-04-20T10:24:05+0200 - INFO - Saving 3 Fluent Datasources to /home/mohamed/peoplepipeline/gx/great_expectations.yml\n",
      "2024-04-20T10:24:05+0200 - INFO - CSVAsset.dict() - missing `config_provider`, skipping config substitution\n",
      "2024-04-20T10:24:05+0200 - INFO - PandasDatasource.dict() - missing `config_provider`, skipping config substitution\n",
      "2024-04-20T10:24:05+0200 - INFO - CSVAsset.dict() - missing `config_provider`, skipping config substitution\n",
      "2024-04-20T10:24:05+0200 - INFO - PandasDatasource.dict() - missing `config_provider`, skipping config substitution\n",
      "2024-04-20T10:24:05+0200 - INFO - CSVAsset.dict() - missing `config_provider`, skipping config substitution\n",
      "2024-04-20T10:24:05+0200 - INFO - PandasDatasource.dict() - missing `config_provider`, skipping config substitution\n",
      "Loaded ExpectationSuite \"people.validation\" containing 7 expectations.\n"
     ]
    },
    {
     "data": {
      "application/vnd.jupyter.widget-view+json": {
       "model_id": "66bca95e991946abb48a0c76af0405d1",
       "version_major": 2,
       "version_minor": 0
      },
      "text/plain": [
       "Calculating Metrics:   0%|          | 0/2 [00:00<?, ?it/s]"
      ]
     },
     "metadata": {},
     "output_type": "display_data"
    },
    {
     "name": "stdout",
     "output_type": "stream",
     "text": [
      "Columns: \"name\", \"age\", \"street\", \"city\", \"state\", \"zip\", \"lng\", \"lat\".\n"
     ]
    },
    {
     "data": {
      "application/vnd.jupyter.widget-view+json": {
       "model_id": "7a7e9666b6234ebf8cb38c1ad2e27661",
       "version_major": 2,
       "version_minor": 0
      },
      "text/plain": [
       "Calculating Metrics:   0%|          | 0/1 [00:00<?, ?it/s]"
      ]
     },
     "metadata": {},
     "output_type": "display_data"
    },
    {
     "data": {
      "text/html": [
       "<div>\n",
       "<style scoped>\n",
       "    .dataframe tbody tr th:only-of-type {\n",
       "        vertical-align: middle;\n",
       "    }\n",
       "\n",
       "    .dataframe tbody tr th {\n",
       "        vertical-align: top;\n",
       "    }\n",
       "\n",
       "    .dataframe thead th {\n",
       "        text-align: right;\n",
       "    }\n",
       "</style>\n",
       "<table border=\"1\" class=\"dataframe\">\n",
       "  <thead>\n",
       "    <tr style=\"text-align: right;\">\n",
       "      <th></th>\n",
       "      <th>name</th>\n",
       "      <th>age</th>\n",
       "      <th>street</th>\n",
       "      <th>city</th>\n",
       "      <th>state</th>\n",
       "      <th>zip</th>\n",
       "      <th>lng</th>\n",
       "      <th>lat</th>\n",
       "    </tr>\n",
       "  </thead>\n",
       "  <tbody>\n",
       "    <tr>\n",
       "      <th>0</th>\n",
       "      <td>Betty Garner</td>\n",
       "      <td>33</td>\n",
       "      <td>3767 Kirk Junctions</td>\n",
       "      <td>Elizabethview</td>\n",
       "      <td>Delaware</td>\n",
       "      <td>26569</td>\n",
       "      <td>143.693771</td>\n",
       "      <td>19.334195</td>\n",
       "    </tr>\n",
       "    <tr>\n",
       "      <th>1</th>\n",
       "      <td>Barbara Miller</td>\n",
       "      <td>23</td>\n",
       "      <td>72531 Don Burg Apt. 840</td>\n",
       "      <td>North George</td>\n",
       "      <td>Nevada</td>\n",
       "      <td>70717</td>\n",
       "      <td>-169.360609</td>\n",
       "      <td>75.315973</td>\n",
       "    </tr>\n",
       "    <tr>\n",
       "      <th>2</th>\n",
       "      <td>Randy Pearson</td>\n",
       "      <td>43</td>\n",
       "      <td>98366 Marcus Field</td>\n",
       "      <td>Stevenville</td>\n",
       "      <td>Maine</td>\n",
       "      <td>90879</td>\n",
       "      <td>172.776632</td>\n",
       "      <td>80.184618</td>\n",
       "    </tr>\n",
       "    <tr>\n",
       "      <th>3</th>\n",
       "      <td>Jason Cox</td>\n",
       "      <td>23</td>\n",
       "      <td>4439 Ward Prairie</td>\n",
       "      <td>Ortizport</td>\n",
       "      <td>South Carolina</td>\n",
       "      <td>39585</td>\n",
       "      <td>-168.691049</td>\n",
       "      <td>-5.506514</td>\n",
       "    </tr>\n",
       "    <tr>\n",
       "      <th>4</th>\n",
       "      <td>Matthew Pierce</td>\n",
       "      <td>44</td>\n",
       "      <td>88688 Javier Grove Suite 241</td>\n",
       "      <td>South Danny</td>\n",
       "      <td>Idaho</td>\n",
       "      <td>89860</td>\n",
       "      <td>-22.677664</td>\n",
       "      <td>-65.435496</td>\n",
       "    </tr>\n",
       "  </tbody>\n",
       "</table>\n",
       "</div>"
      ],
      "text/plain": [
       "             name  age                        street           city  \\\n",
       "0    Betty Garner   33           3767 Kirk Junctions  Elizabethview   \n",
       "1  Barbara Miller   23       72531 Don Burg Apt. 840   North George   \n",
       "2   Randy Pearson   43            98366 Marcus Field    Stevenville   \n",
       "3       Jason Cox   23             4439 Ward Prairie      Ortizport   \n",
       "4  Matthew Pierce   44  88688 Javier Grove Suite 241    South Danny   \n",
       "\n",
       "            state    zip         lng        lat  \n",
       "0        Delaware  26569  143.693771  19.334195  \n",
       "1          Nevada  70717 -169.360609  75.315973  \n",
       "2           Maine  90879  172.776632  80.184618  \n",
       "3  South Carolina  39585 -168.691049  -5.506514  \n",
       "4           Idaho  89860  -22.677664 -65.435496  "
      ]
     },
     "execution_count": 1,
     "metadata": {},
     "output_type": "execute_result"
    }
   ],
   "source": [
    "import datetime\n",
    "\n",
    "import pandas as pd\n",
    "\n",
    "import great_expectations as gx\n",
    "import great_expectations.jupyter_ux\n",
    "from great_expectations.core.batch import BatchRequest\n",
    "from great_expectations.checkpoint import SimpleCheckpoint\n",
    "from great_expectations.exceptions import DataContextError\n",
    "\n",
    "context = gx.get_context()\n",
    "\n",
    "# Note that if you modify this batch request, you may save the new version as a .json file\n",
    "#  to pass in later via the --batch-request option\n",
    "batch_request = {'datasource_name': 'my_datasource', 'data_connector_name': 'default_inferred_data_connector_name', 'data_asset_name': 'people.csv', 'limit': 1000}\n",
    "\n",
    "\n",
    "# Feel free to change the name of your suite here. Renaming this will not remove the other one.\n",
    "expectation_suite_name = \"people.validation\"\n",
    "try:\n",
    "    suite = context.get_expectation_suite(expectation_suite_name=expectation_suite_name)\n",
    "    print(f'Loaded ExpectationSuite \"{suite.expectation_suite_name}\" containing {len(suite.expectations)} expectations.')\n",
    "except DataContextError:\n",
    "    suite = context.add_expectation_suite(expectation_suite_name=expectation_suite_name)\n",
    "    print(f'Created ExpectationSuite \"{suite.expectation_suite_name}\".')\n",
    "\n",
    "\n",
    "validator = context.get_validator(\n",
    "    batch_request=BatchRequest(**batch_request),\n",
    "    expectation_suite_name=expectation_suite_name\n",
    ")\n",
    "column_names = [f'\"{column_name}\"' for column_name in validator.columns()]\n",
    "print(f\"Columns: {', '.join(column_names)}.\")\n",
    "validator.head(n_rows=5, fetch_all=False)"
   ]
  },
  {
   "cell_type": "markdown",
   "id": "83af204a",
   "metadata": {},
   "source": [
    "## Create & Edit Expectations\n",
    "\n",
    "\n",
    "Add expectations by calling specific expectation methods on the `validator` object. They all begin with `.expect_` which makes autocompleting easy using tab.\n",
    "\n",
    "Because you selected interactive mode, you are now creating or editing an Expectation Suite with validator feedback from the sample batch of data that you specified (see `batch_request`).\n",
    "\n",
    "Note that if you select manual mode you may still create or edit an Expectation Suite directly, without feedback from the `validator`. See our documentation for more info and examples: [How to create a new Expectation Suite without a sample batch](https://docs.greatexpectations.io/docs/guides/expectations/how_to_create_and_edit_expectations_based_on_domain_knowledge_without_inspecting_data_directly).\n",
    "\n",
    "\n",
    "\n",
    "You can see all the available expectations in the **[expectation gallery](https://greatexpectations.io/expectations)**."
   ]
  },
  {
   "cell_type": "markdown",
   "id": "9d111427",
   "metadata": {},
   "source": [
    "### Table Expectation(s)"
   ]
  },
  {
   "cell_type": "code",
   "execution_count": 2,
   "id": "1db24f86",
   "metadata": {},
   "outputs": [
    {
     "data": {
      "application/vnd.jupyter.widget-view+json": {
       "model_id": "e4f918c552924ae6bee6c955631d3b78",
       "version_major": 2,
       "version_minor": 0
      },
      "text/plain": [
       "Calculating Metrics:   0%|          | 0/1 [00:00<?, ?it/s]"
      ]
     },
     "metadata": {},
     "output_type": "display_data"
    },
    {
     "data": {
      "text/plain": [
       "{\n",
       "  \"success\": true,\n",
       "  \"result\": {\n",
       "    \"observed_value\": 1000\n",
       "  },\n",
       "  \"meta\": {},\n",
       "  \"exception_info\": {\n",
       "    \"raised_exception\": false,\n",
       "    \"exception_traceback\": null,\n",
       "    \"exception_message\": null\n",
       "  }\n",
       "}"
      ]
     },
     "execution_count": 2,
     "metadata": {},
     "output_type": "execute_result"
    }
   ],
   "source": [
    "\n",
    "validator.expect_table_row_count_to_be_between(max_value=1000, min_value=1000)"
   ]
  },
  {
   "cell_type": "code",
   "execution_count": 3,
   "id": "bcb2dbc1",
   "metadata": {},
   "outputs": [
    {
     "data": {
      "application/vnd.jupyter.widget-view+json": {
       "model_id": "501fbcc0e3b14ad88fb2d314241d1a0b",
       "version_major": 2,
       "version_minor": 0
      },
      "text/plain": [
       "Calculating Metrics:   0%|          | 0/2 [00:00<?, ?it/s]"
      ]
     },
     "metadata": {},
     "output_type": "display_data"
    },
    {
     "data": {
      "text/plain": [
       "{\n",
       "  \"success\": true,\n",
       "  \"result\": {\n",
       "    \"observed_value\": [\n",
       "      \"name\",\n",
       "      \"age\",\n",
       "      \"street\",\n",
       "      \"city\",\n",
       "      \"state\",\n",
       "      \"zip\",\n",
       "      \"lng\",\n",
       "      \"lat\"\n",
       "    ]\n",
       "  },\n",
       "  \"meta\": {},\n",
       "  \"exception_info\": {\n",
       "    \"raised_exception\": false,\n",
       "    \"exception_traceback\": null,\n",
       "    \"exception_message\": null\n",
       "  }\n",
       "}"
      ]
     },
     "execution_count": 3,
     "metadata": {},
     "output_type": "execute_result"
    }
   ],
   "source": [
    "\n",
    "validator.expect_table_columns_to_match_set(column_set=['name', 'lat', 'street', 'lng', 'state', 'zip', 'age', 'city'])"
   ]
  },
  {
   "cell_type": "markdown",
   "id": "681512ab",
   "metadata": {},
   "source": [
    "### Column Expectation(s)"
   ]
  },
  {
   "cell_type": "markdown",
   "id": "9f5e5091",
   "metadata": {},
   "source": [
    "#### `age`"
   ]
  },
  {
   "cell_type": "code",
   "execution_count": 4,
   "id": "e80f7b03",
   "metadata": {},
   "outputs": [
    {
     "data": {
      "application/vnd.jupyter.widget-view+json": {
       "model_id": "300973c17d664361ba305ae511df40da",
       "version_major": 2,
       "version_minor": 0
      },
      "text/plain": [
       "Calculating Metrics:   0%|          | 0/6 [00:00<?, ?it/s]"
      ]
     },
     "metadata": {},
     "output_type": "display_data"
    },
    {
     "data": {
      "text/plain": [
       "{\n",
       "  \"success\": true,\n",
       "  \"result\": {\n",
       "    \"element_count\": 1000,\n",
       "    \"unexpected_count\": 0,\n",
       "    \"unexpected_percent\": 0.0,\n",
       "    \"partial_unexpected_list\": []\n",
       "  },\n",
       "  \"meta\": {},\n",
       "  \"exception_info\": {\n",
       "    \"raised_exception\": false,\n",
       "    \"exception_traceback\": null,\n",
       "    \"exception_message\": null\n",
       "  }\n",
       "}"
      ]
     },
     "execution_count": 4,
     "metadata": {},
     "output_type": "execute_result"
    }
   ],
   "source": [
    "\n",
    "validator.expect_column_values_to_not_be_null(column='age')"
   ]
  },
  {
   "cell_type": "code",
   "execution_count": 5,
   "id": "6390da11",
   "metadata": {},
   "outputs": [
    {
     "data": {
      "application/vnd.jupyter.widget-view+json": {
       "model_id": "e1aa4ee382884d979c8558c36e9e8ce2",
       "version_major": 2,
       "version_minor": 0
      },
      "text/plain": [
       "Calculating Metrics:   0%|          | 0/4 [00:00<?, ?it/s]"
      ]
     },
     "metadata": {},
     "output_type": "display_data"
    },
    {
     "data": {
      "text/plain": [
       "{\n",
       "  \"success\": true,\n",
       "  \"result\": {\n",
       "    \"observed_value\": 18\n",
       "  },\n",
       "  \"meta\": {},\n",
       "  \"exception_info\": {\n",
       "    \"raised_exception\": false,\n",
       "    \"exception_traceback\": null,\n",
       "    \"exception_message\": null\n",
       "  }\n",
       "}"
      ]
     },
     "execution_count": 5,
     "metadata": {},
     "output_type": "execute_result"
    }
   ],
   "source": [
    "\n",
    "validator.expect_column_min_to_be_between(column='age', max_value=19, min_value=17)"
   ]
  },
  {
   "cell_type": "code",
   "execution_count": 6,
   "id": "ac32ca0c",
   "metadata": {},
   "outputs": [
    {
     "data": {
      "application/vnd.jupyter.widget-view+json": {
       "model_id": "9e7328abb6f849ff9361df1ab85945d0",
       "version_major": 2,
       "version_minor": 0
      },
      "text/plain": [
       "Calculating Metrics:   0%|          | 0/4 [00:00<?, ?it/s]"
      ]
     },
     "metadata": {},
     "output_type": "display_data"
    },
    {
     "data": {
      "text/plain": [
       "{\n",
       "  \"success\": true,\n",
       "  \"result\": {\n",
       "    \"observed_value\": 80\n",
       "  },\n",
       "  \"meta\": {},\n",
       "  \"exception_info\": {\n",
       "    \"raised_exception\": false,\n",
       "    \"exception_traceback\": null,\n",
       "    \"exception_message\": null\n",
       "  }\n",
       "}"
      ]
     },
     "execution_count": 6,
     "metadata": {},
     "output_type": "execute_result"
    }
   ],
   "source": [
    "\n",
    "validator.expect_column_max_to_be_between(column='age', max_value=81, min_value=79)"
   ]
  },
  {
   "cell_type": "markdown",
   "id": "ca4541b0",
   "metadata": {},
   "source": [
    "## Review & Save Your Expectations\n",
    "\n",
    "Let's save the expectation suite as a JSON file in the `great_expectations/expectations` directory of your project.\n",
    "\n",
    "Let's now rebuild your Data Docs, which helps you communicate about your data with both machines and humans."
   ]
  },
  {
   "cell_type": "code",
   "execution_count": 7,
   "id": "7fa93485",
   "metadata": {},
   "outputs": [
    {
     "name": "stdout",
     "output_type": "stream",
     "text": [
      "2024-04-20T10:25:34+0200 - INFO - \t7 expectation(s) included in expectation_suite.\n",
      "{\n",
      "  \"expectation_suite_name\": \"people.validation\",\n",
      "  \"ge_cloud_id\": null,\n",
      "  \"expectations\": [\n",
      "    {\n",
      "      \"expectation_type\": \"expect_table_row_count_to_be_between\",\n",
      "      \"kwargs\": {\n",
      "        \"max_value\": 1000,\n",
      "        \"min_value\": 1000\n",
      "      },\n",
      "      \"meta\": {}\n",
      "    },\n",
      "    {\n",
      "      \"expectation_type\": \"expect_table_columns_to_match_set\",\n",
      "      \"kwargs\": {\n",
      "        \"column_set\": [\n",
      "          \"name\",\n",
      "          \"lat\",\n",
      "          \"street\",\n",
      "          \"lng\",\n",
      "          \"state\",\n",
      "          \"zip\",\n",
      "          \"age\",\n",
      "          \"city\"\n",
      "        ]\n",
      "      },\n",
      "      \"meta\": {}\n",
      "    },\n",
      "    {\n",
      "      \"expectation_type\": \"expect_column_values_to_not_be_null\",\n",
      "      \"kwargs\": {\n",
      "        \"column\": \"age\"\n",
      "      },\n",
      "      \"meta\": {}\n",
      "    },\n",
      "    {\n",
      "      \"expectation_type\": \"expect_column_min_to_be_between\",\n",
      "      \"kwargs\": {\n",
      "        \"column\": \"age\",\n",
      "        \"max_value\": 19,\n",
      "        \"min_value\": 17\n",
      "      },\n",
      "      \"meta\": {}\n",
      "    },\n",
      "    {\n",
      "      \"expectation_type\": \"expect_column_max_to_be_between\",\n",
      "      \"kwargs\": {\n",
      "        \"column\": \"age\",\n",
      "        \"max_value\": 81,\n",
      "        \"min_value\": 79\n",
      "      },\n",
      "      \"meta\": {}\n",
      "    },\n",
      "    {\n",
      "      \"expectation_type\": \"expect_column_mean_to_be_between\",\n",
      "      \"kwargs\": {\n",
      "        \"column\": \"age\",\n",
      "        \"max_value\": 51.151,\n",
      "        \"min_value\": 49.151\n",
      "      },\n",
      "      \"meta\": {}\n",
      "    },\n",
      "    {\n",
      "      \"expectation_type\": \"expect_column_median_to_be_between\",\n",
      "      \"kwargs\": {\n",
      "        \"column\": \"age\",\n",
      "        \"max_value\": 52.0,\n",
      "        \"min_value\": 50.0\n",
      "      },\n",
      "      \"meta\": {}\n",
      "    }\n",
      "  ],\n",
      "  \"data_asset_type\": null,\n",
      "  \"meta\": {\n",
      "    \"citations\": [\n",
      "      {\n",
      "        \"citation_date\": \"2024-04-18T17:48:08.655562Z\",\n",
      "        \"comment\": \"Created by effective Rule-Based Profiler of OnboardingDataAssistant with the configuration included.\\n\"\n",
      "      },\n",
      "      {\n",
      "        \"batch_request\": {\n",
      "          \"data_asset_name\": \"people.csv\",\n",
      "          \"data_connector_name\": \"default_inferred_data_connector_name\",\n",
      "          \"datasource_name\": \"my_datasource\",\n",
      "          \"limit\": 1000\n",
      "        },\n",
      "        \"citation_date\": \"2024-04-18T18:01:57.961000Z\",\n",
      "        \"comment\": \"Created suite added via CLI\"\n",
      "      }\n",
      "    ],\n",
      "    \"great_expectations_version\": \"0.18.12\"\n",
      "  }\n",
      "}\n",
      "2024-04-20T10:25:34+0200 - INFO - \t7 expectation(s) included in expectation_suite.\n",
      "2024-04-20T10:25:34+0200 - INFO - \t7 expectation(s) included in expectation_suite.\n"
     ]
    },
    {
     "data": {
      "application/vnd.jupyter.widget-view+json": {
       "model_id": "2cf87a3c4a8349798bb3e13d14ca7c4f",
       "version_major": 2,
       "version_minor": 0
      },
      "text/plain": [
       "Calculating Metrics:   0%|          | 0/12 [00:00<?, ?it/s]"
      ]
     },
     "metadata": {},
     "output_type": "display_data"
    }
   ],
   "source": [
    "print(validator.get_expectation_suite(discard_failed_expectations=False))\n",
    "validator.save_expectation_suite(discard_failed_expectations=False)\n",
    "\n",
    "checkpoint_config = {\n",
    "    \"class_name\": \"SimpleCheckpoint\",\n",
    "    \"validations\": [\n",
    "        {\n",
    "            \"batch_request\": batch_request,\n",
    "            \"expectation_suite_name\": expectation_suite_name\n",
    "        }\n",
    "    ]\n",
    "}\n",
    "checkpoint = SimpleCheckpoint(\n",
    "    f\"{validator.active_batch_definition.data_asset_name}_{expectation_suite_name}\",\n",
    "    context,\n",
    "    **checkpoint_config\n",
    ")\n",
    "checkpoint_result = checkpoint.run()\n",
    "\n",
    "context.build_data_docs()\n",
    "\n",
    "validation_result_identifier = checkpoint_result.list_validation_result_identifiers()[0]\n",
    "context.open_data_docs(resource_identifier=validation_result_identifier)"
   ]
  },
  {
   "cell_type": "code",
   "execution_count": null,
   "id": "128819bf-d661-41b9-8dbe-20dbca85e385",
   "metadata": {},
   "outputs": [],
   "source": []
  }
 ],
 "metadata": {
  "kernelspec": {
   "display_name": "Python 3 (ipykernel)",
   "language": "python",
   "name": "python3"
  },
  "language_info": {
   "codemirror_mode": {
    "name": "ipython",
    "version": 3
   },
   "file_extension": ".py",
   "mimetype": "text/x-python",
   "name": "python",
   "nbconvert_exporter": "python",
   "pygments_lexer": "ipython3",
   "version": "3.8.10"
  }
 },
 "nbformat": 4,
 "nbformat_minor": 5
}
